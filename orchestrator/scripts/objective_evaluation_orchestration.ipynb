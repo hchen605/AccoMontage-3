{
 "cells": [
  {
   "cell_type": "code",
   "execution_count": 57,
   "metadata": {},
   "outputs": [
    {
     "name": "stderr",
     "output_type": "stream",
     "text": [
      "100%|██████████| 55/55 [00:18<00:00,  3.04it/s]\n",
      "100%|██████████| 55/55 [00:17<00:00,  3.12it/s]\n",
      "100%|██████████| 55/55 [00:17<00:00,  3.17it/s]"
     ]
    },
    {
     "name": "stdout",
     "output_type": "stream",
     "text": [
      "Q&A-XL_blur_0\t p-Sim=0.92118 + 0.00809\t                    p-Etr=1.63749 + 0.04753\t                    g-Sim=0.86462 + 0.00964\t                    g-Etr=1.62582 + 0.04782\n",
      "Q&A-XL_blur_0.5\t p-Sim=0.91967 + 0.00775\t                    p-Etr=1.90828 + 0.03603\t                    g-Sim=0.80587 + 0.01162\t                    g-Etr=1.88433 + 0.03582\n",
      "Q&A-XL_blur_1\t p-Sim=0.91661 + 0.00792\t                    p-Etr=2.02799 + 0.03684\t                    g-Sim=0.78441 + 0.01286\t                    g-Etr=2.00000 + 0.03614\n",
      "Q&A\t p-Sim=0.88574 + 0.00988\t                    p-Etr=1.63581 + 0.03543\t                    g-Sim=0.73230 + 0.01491\t                    g-Etr=1.60909 + 0.03615\n",
      "Arranger-2\t p-Sim=0.98862 + 0.00635\t                    p-Etr=0.34147 + 0.04460\t                    g-Sim=0.98900 + 0.00637\t                    g-Etr=0.33764 + 0.04355\n"
     ]
    },
    {
     "name": "stderr",
     "output_type": "stream",
     "text": [
      "\n"
     ]
    }
   ],
   "source": [
    "import os\n",
    "import numpy as np\n",
    "import scipy\n",
    "from utils import midi2matrix\n",
    "import pretty_midi as pyd\n",
    "from tqdm import tqdm\n",
    "import scipy.stats as st\n",
    "ACC = 4\n",
    "\n",
    "def piano_mixture_similarity(piano, mixture):\n",
    "    num_bar = min(len(piano), len(mixture))\n",
    "    piano = piano[:num_bar]\n",
    "    mixture = mixture[:num_bar]\n",
    "    sim = np.array([np.dot(piano[i], mixture[i]) for i in range(piano.shape[0])]) / (np.linalg.norm(piano, axis=-1)  * np.linalg.norm(mixture, axis=-1) + 1e-5)\n",
    "    return np.mean(sim, axis=0)    #scalar\n",
    "\n",
    "\n",
    "def degree_of_orchestration(piano, multi_track):\n",
    "    #multi_track: num_bar x 12\n",
    "    #multi_track: n_track x num_bar x 12\n",
    "    num_bar = min(len(piano), multi_track.shape[1])\n",
    "    piano = piano[:num_bar]\n",
    "    multi_track = multi_track[:, :num_bar]\n",
    "    histogram = np.array([(np.dot(multi_track[:, idx], piano[idx]) + 1e-10) for idx in range(len(piano))]) / (np.linalg.norm(piano, axis=-1)[:, np.newaxis] * np.linalg.norm(multi_track.transpose(1, 0, 2), axis=-1) + 1e-5)   #(num_bar, n_track)\n",
    "    #print(np.sum(histogram, axis=-1))\n",
    "    return np.mean([scipy.stats.entropy(bar) for bar in histogram])\n",
    "\n",
    "def load_piano_acc(path):\n",
    "    piano = pyd.PrettyMIDI(path)\n",
    "    beats = piano.get_beats()\n",
    "    beats = np.append(beats, beats[-1] + (beats[-1] - beats[-2]))\n",
    "    quantize = scipy.interpolate.interp1d(np.array(range(0, len(beats))) * ACC, beats, kind='linear')\n",
    "    quaver = quantize(np.array(range(0, (len(beats) - 1) * ACC)))\n",
    "    piano, prog = midi2matrix(piano, quaver)\n",
    "    piano = piano[:, :piano.shape[1]//16*16]\n",
    "\n",
    "    pitch_hist = np.sum(piano[1:, :, :120].reshape(len(prog)-1, -1, 10, 12), axis=(0, -2))\n",
    "    pitch_hist = np.sum(pitch_hist.reshape(-1, 16, 12), axis=-2)\n",
    "    grooves = np.sum(piano[1:, :, :] > 0, axis=(0, -1)).reshape(-1, 16)\n",
    "    return pitch_hist, grooves\n",
    "\n",
    "def load_multi_track_acc(path, melody_id):\n",
    "    orchestration = pyd.PrettyMIDI(path)\n",
    "    beats = orchestration.get_beats()\n",
    "    beats = np.append(beats, beats[-1] + (beats[-1] - beats[-2]))\n",
    "    quantize = scipy.interpolate.interp1d(np.array(range(0, len(beats))) * ACC, beats, kind='linear')\n",
    "    quaver = quantize(np.array(range(0, (len(beats) - 1) * ACC)))\n",
    "    orchestration, prog = midi2matrix(orchestration, quaver)\n",
    "    orchestration = orchestration[:, :orchestration.shape[1]//16*16]\n",
    "    orchestration = np.delete(orchestration, melody_id, axis=0)\n",
    "    \n",
    "    pitch_hist = np.sum(orchestration[:, :, :120].reshape(len(prog)-1, -1, 10, 12), axis=-2)\n",
    "    pitch_hist = np.sum(pitch_hist.reshape(len(prog)-1, -1, 16, 12), axis=-2)\n",
    "    grooves = np.sum(orchestration > 0, axis=-1).reshape(len(prog)-1, -1, 16)\n",
    "    return pitch_hist, grooves\n",
    "\n",
    "results = {'Q&A-XL_blur_0': {'p_sim': [], 'p_entro': [], 'g_sim': [], 'g_entro': []}, \\\n",
    "           'Q&A-XL_blur_0.5': {'p_sim': [], 'p_entro': [], 'g_sim': [], 'g_entro': []}, \\\n",
    "           'Q&A-XL_blur_1': {'p_sim': [], 'p_entro': [], 'g_sim': [], 'g_entro': []}, \\\n",
    "           'Q&A': {'p_sim': [], 'p_entro': [], 'g_sim': [], 'g_entro': []}, \\\n",
    "           'Arranger-2': {'p_sim': [], 'p_entro': [], 'g_sim': [], 'g_entro': []}\\\n",
    "           }\n",
    "melody_id_dict = {'Q&A-XL_blur_0':-1, 'Q&A-XL_blur_0.5':-1, 'Q&A-XL_blur_1':-1, 'Q&A':-1, 'Arranger-2':0}\n",
    "count = 0\n",
    "for demo in [1, 2, 3]:\n",
    "    demo_root = f'../orchestration_with_ablation/demo_{demo}'\n",
    "    for song in tqdm(os.listdir(demo_root)):\n",
    "        histo_pno, grooves_pno = load_piano_acc(os.path.join(demo_root, song, 'piano_recon.mid'))\n",
    "        for model in ['Q&A-XL_blur_0', 'Q&A-XL_blur_0.5', 'Q&A-XL_blur_1', 'Q&A', 'Arranger-2']:\n",
    "        \n",
    "            histo_orch, grooves_orch = load_multi_track_acc(os.path.join(demo_root, song, f'{model}.mid'), melody_id=melody_id_dict[model])\n",
    "\n",
    "            p_sim = piano_mixture_similarity(histo_pno, np.sum(histo_orch, axis=0))\n",
    "            p_entro = degree_of_orchestration(histo_pno, histo_orch)\n",
    "            g_sim = piano_mixture_similarity(grooves_pno, np.sum(grooves_orch, axis=0))\n",
    "            g_entro = degree_of_orchestration(grooves_pno, grooves_orch)\n",
    "            results[model]['p_sim'].append(p_sim)\n",
    "            results[model]['p_entro'].append(p_entro)\n",
    "            results[model]['g_sim'].append(g_sim)\n",
    "            results[model]['g_entro'].append(g_entro)\n",
    "\n",
    "for key in results:\n",
    "    print(f\"{key}\\t p-Sim={np.mean(results[key]['p_sim']):.5f} + {st.sem(results[key]['p_sim']) * scipy.stats.t.ppf((1 + 0.95) / 2., len(results[key]['p_sim'])-1):.5f}\\t\\\n",
    "                    p-Etr={np.mean(results[key]['p_entro']):.5f} + {st.sem(results[key]['p_entro']) * scipy.stats.t.ppf((1 + 0.95) / 2., len(results[key]['p_entro'])-1):.5f}\\t\\\n",
    "                    g-Sim={np.mean(results[key]['g_sim']):.5f} + {st.sem(results[key]['g_sim']) * scipy.stats.t.ppf((1 + 0.95) / 2., len(results[key]['g_sim'])-1):.5f}\\t\\\n",
    "                    g-Etr={np.mean(results[key]['g_entro']):.5f} + {st.sem(results[key]['g_entro']) * scipy.stats.t.ppf((1 + 0.95) / 2., len(results[key]['g_entro'])-1):.5f}\")"
   ]
  },
  {
   "cell_type": "code",
   "execution_count": 60,
   "metadata": {},
   "outputs": [
    {
     "name": "stdout",
     "output_type": "stream",
     "text": [
      "Q&A-XL_blur_0\t p-Sim=0.92118 + 0.00809\t                        p-Etr=1.63749 + 0.04753\t                        g-Sim=0.86462 + 0.00964\t                        g-Etr=1.62582 + 0.04782\n",
      "Q&A-XL_blur_0.5\t p-Sim=0.91967 + 0.00775\t                        p-Etr=1.90828 + 0.03603\t                        g-Sim=0.80587 + 0.01162\t                        g-Etr=1.88433 + 0.03582\n",
      "Q&A-XL_blur_1\t p-Sim=0.91661 + 0.00792\t                        p-Etr=2.02799 + 0.03684\t                        g-Sim=0.78441 + 0.01286\t                        g-Etr=2.00000 + 0.03614\n",
      "Q&A\t p-Sim=0.88574 + 0.00988\t                        p-Etr=1.63581 + 0.03543\t                        g-Sim=0.73230 + 0.01491\t                        g-Etr=1.60909 + 0.03615\n",
      "Arranger-2\t p-Sim=0.98862 + 0.00635\t                        p-Etr=0.34147 + 0.04460\t                        g-Sim=0.98900 + 0.00637\t                        g-Etr=0.33764 + 0.04355\n"
     ]
    }
   ],
   "source": [
    "for key in results:\n",
    "    print(f\"{key}\\t p-Sim={np.mean(results[key]['p_sim']):.5f} + {st.sem(results[key]['p_sim']) * scipy.stats.t.ppf((1 + 0.95) / 2., len(results[key]['p_sim'])-1):.5f}\\t\\\n",
    "                        p-Etr={np.mean(results[key]['p_entro']):.5f} + {st.sem(results[key]['p_entro']) * scipy.stats.t.ppf((1 + 0.95) / 2., len(results[key]['p_entro'])-1):.5f}\\t\\\n",
    "                        g-Sim={np.mean(results[key]['g_sim']):.5f} + {st.sem(results[key]['g_sim']) * scipy.stats.t.ppf((1 + 0.95) / 2., len(results[key]['g_sim'])-1):.5f}\\t\\\n",
    "                        g-Etr={np.mean(results[key]['g_entro']):.5f} + {st.sem(results[key]['g_entro']) * scipy.stats.t.ppf((1 + 0.95) / 2., len(results[key]['g_entro'])-1):.5f}\")"
   ]
  },
  {
   "cell_type": "code",
   "execution_count": null,
   "metadata": {},
   "outputs": [],
   "source": []
  }
 ],
 "metadata": {
  "kernelspec": {
   "display_name": "torch1.9",
   "language": "python",
   "name": "python3"
  },
  "language_info": {
   "codemirror_mode": {
    "name": "ipython",
    "version": 3
   },
   "file_extension": ".py",
   "mimetype": "text/x-python",
   "name": "python",
   "nbconvert_exporter": "python",
   "pygments_lexer": "ipython3",
   "version": "3.8.12"
  },
  "orig_nbformat": 4
 },
 "nbformat": 4,
 "nbformat_minor": 2
}

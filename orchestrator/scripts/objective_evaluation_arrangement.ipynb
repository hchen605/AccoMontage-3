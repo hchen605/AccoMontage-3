{
 "cells": [
  {
   "cell_type": "code",
   "execution_count": 17,
   "metadata": {},
   "outputs": [
    {
     "name": "stderr",
     "output_type": "stream",
     "text": [
      "100%|██████████| 66/66 [01:47<00:00,  1.63s/it]\n",
      "100%|██████████| 66/66 [01:48<00:00,  1.64s/it]\n",
      "100%|██████████| 66/66 [01:50<00:00,  1.67s/it]\n"
     ]
    }
   ],
   "source": [
    "import os\n",
    "import numpy as np\n",
    "import scipy\n",
    "from utils import midi2matrix\n",
    "import pretty_midi as pyd\n",
    "from tqdm import tqdm\n",
    "import sys\n",
    "sys.path.append('../exported_midi_chord_recognition')\n",
    "from main import transcribe_cb1000_midi\n",
    "import scipy.stats as st\n",
    "ACC = 4\n",
    "\n",
    "def load_mixture_acc(path, melody_id=None):\n",
    "    multi_track = pyd.PrettyMIDI(path)\n",
    "    beats = multi_track.get_beats()\n",
    "    beats = np.append(beats, beats[-1] + (beats[-1] - beats[-2]))\n",
    "    quantize = scipy.interpolate.interp1d(np.array(range(0, len(beats))) * ACC, beats, kind='linear')\n",
    "    quaver = quantize(np.array(range(0, (len(beats) - 1) * ACC)))\n",
    "    multi_track, _ = midi2matrix(multi_track, quaver)\n",
    "    multi_track = multi_track[:, :multi_track.shape[1]//16*16]\n",
    "    if melody_id is not None:\n",
    "        multi_track = np.delete(multi_track, melody_id, axis=0)\n",
    "    mixture = np.max(multi_track, axis=0)\n",
    "\n",
    "    pitch_hist = np.sum(mixture[:, :120].reshape(-1, 10, 12), axis=-2)\n",
    "    pitch_hist = np.sum(pitch_hist.reshape(-1, 16, 12), axis=-2)\n",
    "    grooves = np.sum(mixture[:, :] > 0, axis=-1).reshape(-1, 16)\n",
    "    grooves[grooves>0] = 1\n",
    "    return pitch_hist, grooves\n",
    "\n",
    "def load_multi_track_acc(path, melody_id=None):\n",
    "    orchestration = pyd.PrettyMIDI(path)\n",
    "    beats = orchestration.get_beats()\n",
    "    beats = np.append(beats, beats[-1] + (beats[-1] - beats[-2]))\n",
    "    quantize = scipy.interpolate.interp1d(np.array(range(0, len(beats))) * ACC, beats, kind='linear')\n",
    "    quaver = quantize(np.array(range(0, (len(beats) - 1) * ACC)))\n",
    "    orchestration, _ = midi2matrix(orchestration, quaver)\n",
    "    orchestration = orchestration[:, :orchestration.shape[1]//16*16]\n",
    "    if melody_id is not None:\n",
    "        orchestration = np.delete(orchestration, melody_id, axis=0)\n",
    "    \n",
    "    pitch_hist = np.sum(orchestration[:, :, :120].reshape(len(orchestration), -1, 10, 12), axis=-2)\n",
    "    pitch_hist = np.sum(pitch_hist.reshape(len(orchestration), -1, 16, 12), axis=-2)\n",
    "    grooves = np.sum(orchestration > 0, axis=-1).reshape(len(orchestration), -1, 16)\n",
    "    grooves[grooves>0] = 1\n",
    "    return pitch_hist, grooves\n",
    "\n",
    "\n",
    "def pitch_historgam_entropy(histo_mix):\n",
    "    #histo_mix: num_bar x 12\n",
    "    empty = np.nonzero(np.sum(histo_mix, axis=-1) == 0)[0]\n",
    "    if len(empty) > 0:\n",
    "        histo_mix = np.delete(histo_mix, empty, axis=0)\n",
    "    return np.mean([scipy.stats.entropy(bar) for bar in histo_mix])\n",
    "\n",
    "def groove_consistency(grooves_mix):\n",
    "    #grooves_mix: num_bar x 16\n",
    "    empty = np.nonzero(np.sum(grooves_mix, axis=-1) == 0)[0]\n",
    "    if len(empty) > 0:\n",
    "        grooves_mix = np.delete(grooves_mix, empty, axis=0)\n",
    "    results = []\n",
    "    for i in range(len(grooves_mix)):\n",
    "        for j in range(len(grooves_mix)):\n",
    "            results.append(1 - np.sum((grooves_mix[i] * grooves_mix[j]) == 0) / 16)\n",
    "    return np.mean(results)\n",
    "\n",
    "\n",
    "def structure_dynamics(grooves_mix, phrase_seg=[8, 8, 8, 8]):\n",
    "    #grooves_mix: num_bar x 16\n",
    "    #print(len(grooves_mix), np.sum(phrase_seg))\n",
    "    if len(grooves_mix) > np.sum(phrase_seg):\n",
    "        grooves_mix = grooves_mix[:np.sum(phrase_seg)]\n",
    "    assert(len(grooves_mix) == np.sum(phrase_seg))\n",
    "    results = []\n",
    "    start = 0\n",
    "    for p_len in phrase_seg:\n",
    "        in_phrase_result = []\n",
    "        for i in range(start, start+p_len):\n",
    "            for j in range(start, start+p_len):\n",
    "                in_phrase_result.append(1 - np.sum((grooves_mix[i] * grooves_mix[j]) == 0) / 16)\n",
    "        out_phrase_result = []\n",
    "        for i in range(start, start+p_len):\n",
    "            for j in range(len(grooves_mix)):\n",
    "                if (j < start) or (j >= start+p_len):\n",
    "                    out_phrase_result.append(1 - np.sum((grooves_mix[i] * grooves_mix[j]) == 0) / 16)\n",
    "        start += p_len\n",
    "        results.append(np.mean(in_phrase_result) / np.mean(out_phrase_result))\n",
    "    return np.mean(results)\n",
    "\n",
    "\n",
    "def track_wise_entropy(multi_track):\n",
    "    #multi_track: n_track x num_bar x 12\n",
    "    return np.mean([pitch_historgam_entropy(track) for track in multi_track])\n",
    "def track_wise_consistency(multi_track):\n",
    "    #multi_track: n_track x num_bar x 12\n",
    "    return np.mean([groove_consistency(track) for track in multi_track])\n",
    "\n",
    "def chord_comparator(path, name):\n",
    "    chord_1 = []\n",
    "    chord = transcribe_cb1000_midi(os.path.join(path, 'lead_sheet.mid'), output_path=None)\n",
    "    INCRE = 60 / pyd.PrettyMIDI(os.path.join(path, 'lead_sheet.mid')).get_tempo_changes()[1][0]\n",
    "    for item in chord:\n",
    "        chord_1 += [item[-1].split('/')[0]]*int(round((item[1]-item[0]) / INCRE))\n",
    "    chord_2 = []\n",
    "    chord = transcribe_cb1000_midi(os.path.join(path, f'{name}.mid'), output_path=None)\n",
    "    INCRE = 60 / pyd.PrettyMIDI(os.path.join(path, f'{name}.mid')).get_tempo_changes()[1][0]\n",
    "    for item in chord:\n",
    "        chord_2 += [item[-1].split('/')[0]]*int(round((item[1]-item[0]) / INCRE))\n",
    "    if not (len(chord_1) == len(chord_2)):\n",
    "        #print('chord', len(chord_1), len(chord_2))\n",
    "        #print(chord_1)\n",
    "        #print(chord_2)\n",
    "        chord_len = min(len(chord_1), len(chord_2))\n",
    "        chord_1 = chord_1[:chord_len]\n",
    "        chord_2 = chord_2[:chord_len]\n",
    "    #assert(len(chord_1) == len(chord_2))\n",
    "    result = 0\n",
    "    for i in range(len(chord_1)):\n",
    "        if chord_1[i] == chord_2[i]:\n",
    "            result += 1\n",
    "        #else:\n",
    "        #    print(chord_1[i], chord_2[i])\n",
    "    result = result / len(chord_1)\n",
    "    return result\n",
    "\n",
    "with open(\"../nottingham_database/phrase_cleaned.txt\", 'r') as f:\n",
    "    phrases = f.readlines()\n",
    "phrase_dict = {}\n",
    "for item in phrases:\n",
    "    p_len =[]\n",
    "    for i in item.split('\\t')[1][1::2]:\n",
    "        p_len.append(int(i))\n",
    "    phrase_dict[item.split('\\t')[0]] = p_len\n",
    "#print(phrase_dict)\n",
    "\n",
    "results = {'AccoMontage3': {'p_etr': [], 'g_cst': [], 'dyn': [], 'trk_p_etr': [], 'trk_g_etr': [], 'chd_acc': []}, \\\n",
    "           'Jianianhua': {'p_etr': [], 'g_cst': [], 'dyn': [], 'trk_p_etr': [], 'trk_g_etr': [], 'chd_acc': []}, \\\n",
    "           'PopMAG': {'p_etr': [], 'g_cst': [], 'dyn': [], 'trk_p_etr': [], 'trk_g_etr': [], 'chd_acc': []}\\\n",
    "           }\n",
    "melody_id_dict = {'AccoMontage3':-1, 'Jianianhua':0, 'PopMAG':0}\n",
    "for demo in [1, 2, 3]:\n",
    "    demo_root = f\"arrangement/demo_{demo}\"\n",
    "    for song in tqdm(os.listdir(demo_root)):\n",
    "        phrase = phrase_dict[song]\n",
    "        for model in ['AccoMontage3', 'Jianianhua', 'PopMAG']:\n",
    "            histo_mix, grooves_mix = load_mixture_acc(os.path.join(demo_root, song, f'{model}.mid'), melody_id=melody_id_dict[model])\n",
    "            histo_track, grooves_track = load_multi_track_acc(os.path.join(demo_root, song, f'{model}.mid'), melody_id=melody_id_dict[model])\n",
    "            results[model]['p_etr'].append(pitch_historgam_entropy(histo_mix))\n",
    "            results[model]['g_cst'].append(groove_consistency(grooves_mix))\n",
    "            results[model]['dyn'].append(structure_dynamics(grooves_mix, phrase_seg=phrase))\n",
    "            results[model]['trk_p_etr'].append(track_wise_entropy(histo_track))\n",
    "            results[model]['trk_g_etr'].append(track_wise_consistency(grooves_track))\n",
    "            results[model]['chd_acc'].append(chord_comparator(os.path.join(demo_root, song), model))"
   ]
  },
  {
   "cell_type": "code",
   "execution_count": null,
   "metadata": {},
   "outputs": [],
   "source": []
  },
  {
   "cell_type": "code",
   "execution_count": 18,
   "metadata": {},
   "outputs": [
    {
     "name": "stdout",
     "output_type": "stream",
     "text": [
      "AccoMontage3\t p-Etr=1.29535 + 0.01522\t                    g-Cst=0.52693 + 0.01979\t                    s-dyn=1.08076 + 0.00778\t                    trk-p=0.76001 + 0.01542\t                    trk-g=0.14174 + 0.00485\t                    chd=0.72168 + 0.02024\n",
      "Jianianhua\t p-Etr=1.32391 + 0.02046\t                    g-Cst=0.55623 + 0.03252\t                    s-dyn=1.05569 + 0.01150\t                    trk-p=0.91413 + 0.02130\t                    trk-g=0.26791 + 0.01198\t                    chd=0.70607 + 0.02170\n",
      "PopMAG\t p-Etr=1.32200 + 0.01927\t                    g-Cst=0.46709 + 0.02251\t                    s-dyn=1.05669 + 0.00581\t                    trk-p=0.76200 + 0.02252\t                    trk-g=0.10504 + 0.00455\t                    chd=0.60882 + 0.02045\n"
     ]
    }
   ],
   "source": [
    "for key in results:\n",
    "    print(f\"{key}\\t p-Etr={np.mean(results[key]['p_etr']):.5f} + {st.sem(results[key]['p_etr']) * scipy.stats.t.ppf((1 + 0.95) / 2., len(results[key]['p_etr'])-1):.5f}\\t\\\n",
    "                    g-Cst={np.mean(results[key]['g_cst']):.5f} + {st.sem(results[key]['g_cst']) * scipy.stats.t.ppf((1 + 0.95) / 2., len(results[key]['g_cst'])-1):.5f}\\t\\\n",
    "                    s-dyn={np.mean(results[key]['dyn']):.5f} + {st.sem(results[key]['dyn']) * scipy.stats.t.ppf((1 + 0.95) / 2., len(results[key]['dyn'])-1):.5f}\\t\\\n",
    "                    trk-p={np.mean(results[key]['trk_p_etr']):.5f} + {st.sem(results[key]['trk_p_etr']) * scipy.stats.t.ppf((1 + 0.95) / 2., len(results[key]['trk_p_etr'])-1):.5f}\\t\\\n",
    "                    trk-g={np.mean(results[key]['trk_g_etr']):.5f} + {st.sem(results[key]['trk_g_etr']) * scipy.stats.t.ppf((1 + 0.95) / 2., len(results[key]['trk_g_etr'])-1):.5f}\\t\\\n",
    "                    chd={np.mean(results[key]['chd_acc']):.5f} + {st.sem(results[key]['chd_acc']) * scipy.stats.t.ppf((1 + 0.95) / 2., len(results[key]['chd_acc'])-1):.5f}\")"
   ]
  },
  {
   "cell_type": "code",
   "execution_count": null,
   "metadata": {},
   "outputs": [],
   "source": [
    "demo_root = \"../lmd\"\n",
    "results = {'Real': {'p_etr': [], 'g_cst': [], 'trk_p_etr': [], 'trk_g_etr': []}}\n",
    "melody_id_dict = {'AccoMontage3':-1, 'Jianianhua':0, 'PopMAG':0}\n",
    "for song in tqdm(os.listdir(demo_root)):\n",
    "    try:\n",
    "        histo_mix, grooves_mix = load_mixture_acc(os.path.join(demo_root, song))\n",
    "        histo_track, grooves_track = load_multi_track_acc(os.path.join(demo_root, song))\n",
    "        results['Real']['p_etr'].append(pitch_historgam_entropy(histo_mix))\n",
    "        results['Real']['g_cst'].append(groove_consistency(grooves_mix))\n",
    "        results['Real']['trk_p_etr'].append(track_wise_entropy(histo_track))\n",
    "        results['Real']['trk_g_etr'].append(track_wise_consistency(grooves_track))\n",
    "    except:\n",
    "        continue\n"
   ]
  },
  {
   "cell_type": "code",
   "execution_count": 20,
   "metadata": {},
   "outputs": [
    {
     "name": "stdout",
     "output_type": "stream",
     "text": [
      "Real\t p-Etr=1.55543 + 0.01577\t                    g-Cst=0.52725 + 0.01340\t                    trk-p=nan + nan\t                    trk-g=nan + nan\t\n"
     ]
    }
   ],
   "source": [
    "for key in results:\n",
    "    print(f\"{key}\\t p-Etr={np.mean(results[key]['p_etr']):.5f} + {st.sem(results[key]['p_etr']) * scipy.stats.t.ppf((1 + 0.95) / 2., len(results[key]['p_etr'])-1):.5f}\\t\\\n",
    "                    g-Cst={np.mean(results[key]['g_cst']):.5f} + {st.sem(results[key]['g_cst']) * scipy.stats.t.ppf((1 + 0.95) / 2., len(results[key]['g_cst'])-1):.5f}\\t\\\n",
    "                    trk-p={np.mean(results[key]['trk_p_etr']):.5f} + {st.sem(results[key]['trk_p_etr']) * scipy.stats.t.ppf((1 + 0.95) / 2., len(results[key]['trk_p_etr'])-1):.5f}\\t\\\n",
    "                    trk-g={np.mean(results[key]['trk_g_etr']):.5f} + {st.sem(results[key]['trk_g_etr']) * scipy.stats.t.ppf((1 + 0.95) / 2., len(results[key]['trk_g_etr'])-1):.5f}\\t\")"
   ]
  },
  {
   "cell_type": "code",
   "execution_count": 33,
   "metadata": {},
   "outputs": [
    {
     "name": "stdout",
     "output_type": "stream",
     "text": [
      "0.90548 + 0.00016\n"
     ]
    }
   ],
   "source": [
    "new_list = []\n",
    "for item in results[key]['trk_p_etr']:\n",
    "    if np.isnan(item):\n",
    "        continue\n",
    "    new_list.append(item)\n",
    "print(f\"{np.mean(new_list):.5f} + {st.sem(new_list) * scipy.stats.t.ppf((1 + 0.95) / 2., len(new_list)-1):.5f}\")"
   ]
  },
  {
   "cell_type": "code",
   "execution_count": 34,
   "metadata": {},
   "outputs": [
    {
     "name": "stdout",
     "output_type": "stream",
     "text": [
      "0.23359 + 0.00747\n"
     ]
    }
   ],
   "source": [
    "new_list = []\n",
    "for item in results[key]['trk_g_etr']:\n",
    "    if np.isnan(item):\n",
    "        continue\n",
    "    new_list.append(item)\n",
    "print(f\"{np.mean(new_list):.5f} + {st.sem(new_list) * scipy.stats.t.ppf((1 + 0.95) / 2., len(new_list)-1):.5f}\")"
   ]
  },
  {
   "cell_type": "code",
   "execution_count": null,
   "metadata": {},
   "outputs": [],
   "source": []
  }
 ],
 "metadata": {
  "kernelspec": {
   "display_name": "torch1.9",
   "language": "python",
   "name": "python3"
  },
  "language_info": {
   "codemirror_mode": {
    "name": "ipython",
    "version": 3
   },
   "file_extension": ".py",
   "mimetype": "text/x-python",
   "name": "python",
   "nbconvert_exporter": "python",
   "pygments_lexer": "ipython3",
   "version": "3.8.12"
  },
  "orig_nbformat": 4
 },
 "nbformat": 4,
 "nbformat_minor": 2
}
